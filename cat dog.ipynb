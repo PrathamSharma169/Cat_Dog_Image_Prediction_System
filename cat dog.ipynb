{
 "cells": [
  {
   "cell_type": "markdown",
   "id": "4bbf4bf7-fbc4-4cdd-b1ec-a6e12b78cc57",
   "metadata": {},
   "source": [
    "DATA PREPROCESSING"
   ]
  },
  {
   "cell_type": "code",
   "execution_count": 1,
   "id": "c679b0ee-0364-4194-99f8-a873210d13d9",
   "metadata": {},
   "outputs": [],
   "source": [
    "import tensorflow as tf\n",
    "from keras.src.legacy.preprocessing.image import ImageDataGenerator"
   ]
  },
  {
   "cell_type": "code",
   "execution_count": 2,
   "id": "01c772c9-548d-4e39-abdf-fbc3c0928dd2",
   "metadata": {},
   "outputs": [
    {
     "data": {
      "text/plain": [
       "'2.16.1'"
      ]
     },
     "execution_count": 2,
     "metadata": {},
     "output_type": "execute_result"
    }
   ],
   "source": [
    "tf.__version__"
   ]
  },
  {
   "cell_type": "code",
   "execution_count": 3,
   "id": "1aae44dc-070e-4975-9a1d-48be0423145f",
   "metadata": {},
   "outputs": [
    {
     "name": "stdout",
     "output_type": "stream",
     "text": [
      "Found 8000 images belonging to 2 classes.\n"
     ]
    }
   ],
   "source": [
    "train_datagen = ImageDataGenerator(rescale = 1./255,\n",
    "                                   shear_range = 0.2,\n",
    "                                   zoom_range = 0.2,\n",
    "                                   horizontal_flip = True)\n",
    "training_set= train_datagen.flow_from_directory('training_set', target_size=[64,64], batch_size=20, class_mode='binary')"
   ]
  },
  {
   "cell_type": "code",
   "execution_count": 4,
   "id": "834d6d6c-fead-4573-a232-1be8ac668c13",
   "metadata": {},
   "outputs": [
    {
     "name": "stdout",
     "output_type": "stream",
     "text": [
      "Found 2000 images belonging to 2 classes.\n"
     ]
    }
   ],
   "source": [
    "test_datagen = ImageDataGenerator(rescale = 1./255)\n",
    "test_set= test_datagen.flow_from_directory('test_set',batch_size=20, target_size=[64,64], class_mode='binary')"
   ]
  },
  {
   "cell_type": "markdown",
   "id": "e9b6dcb9-6c44-41f2-88ee-c0fb20760ed4",
   "metadata": {},
   "source": [
    "BUILDING CNN MODEL"
   ]
  },
  {
   "cell_type": "code",
   "execution_count": 5,
   "id": "79a2b3d6-c863-43a8-8d2a-1c9f63a55a59",
   "metadata": {},
   "outputs": [],
   "source": [
    "cnn= tf.keras.models.Sequential()"
   ]
  },
  {
   "cell_type": "markdown",
   "id": "526509d0-b60e-4841-8d0c-191ebb34f292",
   "metadata": {},
   "source": [
    "convolutional layer"
   ]
  },
  {
   "cell_type": "code",
   "execution_count": 6,
   "id": "246ee5c4-609a-45f1-9ed4-cc4da39bb91d",
   "metadata": {},
   "outputs": [
    {
     "name": "stderr",
     "output_type": "stream",
     "text": [
      "C:\\Users\\anush\\anaconda3\\Lib\\site-packages\\keras\\src\\layers\\convolutional\\base_conv.py:99: UserWarning: Do not pass an `input_shape`/`input_dim` argument to a layer. When using Sequential models, prefer using an `Input(shape)` object as the first layer in the model instead.\n",
      "  super().__init__(\n"
     ]
    }
   ],
   "source": [
    "cnn.add(tf.keras.layers.Conv2D(filters=40, activation='relu', kernel_size=3, input_shape=[64,64,3]))"
   ]
  },
  {
   "cell_type": "markdown",
   "id": "e76e2384-3a1b-4f0f-b645-62e6605d6b4c",
   "metadata": {},
   "source": [
    "pooling layer"
   ]
  },
  {
   "cell_type": "code",
   "execution_count": 7,
   "id": "2fd8b946-7309-47f5-938e-1a75cad74a15",
   "metadata": {},
   "outputs": [],
   "source": [
    "cnn.add(tf.keras.layers.MaxPool2D(pool_size=2, strides=2))"
   ]
  },
  {
   "cell_type": "markdown",
   "id": "5eab3ff4-1f6a-446b-b317-3c3f7019045e",
   "metadata": {},
   "source": [
    "adding second layer"
   ]
  },
  {
   "cell_type": "code",
   "execution_count": 8,
   "id": "40b44bd3-7430-439d-b825-c3bd86f43dd9",
   "metadata": {},
   "outputs": [],
   "source": [
    "cnn.add(tf.keras.layers.Conv2D(filters=40, activation='relu', kernel_size=3))"
   ]
  },
  {
   "cell_type": "code",
   "execution_count": 9,
   "id": "ae0c9f04-2bf7-475e-94a7-b50def665c22",
   "metadata": {},
   "outputs": [],
   "source": [
    "cnn.add(tf.keras.layers.MaxPool2D(pool_size=2, strides=2))"
   ]
  },
  {
   "cell_type": "markdown",
   "id": "4e21fc65-95ad-44cb-a3ff-42e340e1b613",
   "metadata": {},
   "source": [
    "Flattening"
   ]
  },
  {
   "cell_type": "code",
   "execution_count": 10,
   "id": "4b0a195d-9788-4d0e-b5b5-3c8217a9d012",
   "metadata": {},
   "outputs": [],
   "source": [
    "cnn.add(tf.keras.layers.Flatten())"
   ]
  },
  {
   "cell_type": "markdown",
   "id": "c6c69b9f-e723-4444-8c35-7551916f3f80",
   "metadata": {},
   "source": [
    "completion"
   ]
  },
  {
   "cell_type": "code",
   "execution_count": 11,
   "id": "6766f33c-8a51-4ee3-a892-4e7dd60cf996",
   "metadata": {},
   "outputs": [],
   "source": [
    "cnn.add(tf.keras.layers.Dense(units=100, activation='relu'))"
   ]
  },
  {
   "cell_type": "markdown",
   "id": "f3415f6e-2c04-467e-9900-7d414ad634b6",
   "metadata": {},
   "source": [
    "output layer"
   ]
  },
  {
   "cell_type": "code",
   "execution_count": 12,
   "id": "d5088f21-5b09-4fdf-92c0-332a1fe90c16",
   "metadata": {},
   "outputs": [],
   "source": [
    "cnn.add(tf.keras.layers.Dense(units=1, activation='sigmoid'))"
   ]
  },
  {
   "cell_type": "markdown",
   "id": "959b47a4-7351-4547-99d1-047c53842ad0",
   "metadata": {},
   "source": [
    "compiling model"
   ]
  },
  {
   "cell_type": "code",
   "execution_count": 13,
   "id": "f29b2235-52d8-4076-b0f3-740301b243b8",
   "metadata": {},
   "outputs": [],
   "source": [
    "cnn.compile(optimizer='adam', loss='binary_crossentropy', metrics=['accuracy'])"
   ]
  },
  {
   "cell_type": "markdown",
   "id": "d1a73674-5cc9-4b5d-a77c-03a4b68c34cc",
   "metadata": {},
   "source": [
    "training model"
   ]
  },
  {
   "cell_type": "code",
   "execution_count": 14,
   "id": "3cd360f6-684c-4462-9b57-c948f4238f7f",
   "metadata": {},
   "outputs": [
    {
     "name": "stdout",
     "output_type": "stream",
     "text": [
      "Epoch 1/20\n"
     ]
    },
    {
     "name": "stderr",
     "output_type": "stream",
     "text": [
      "C:\\Users\\anush\\anaconda3\\Lib\\site-packages\\keras\\src\\trainers\\data_adapters\\py_dataset_adapter.py:120: UserWarning: Your `PyDataset` class should call `super().__init__(**kwargs)` in its constructor. `**kwargs` can include `workers`, `use_multiprocessing`, `max_queue_size`. Do not pass these arguments to `fit()`, as they will be ignored.\n",
      "  self._warn_if_super_not_called()\n"
     ]
    },
    {
     "name": "stdout",
     "output_type": "stream",
     "text": [
      "\u001b[1m400/400\u001b[0m \u001b[32m━━━━━━━━━━━━━━━━━━━━\u001b[0m\u001b[37m\u001b[0m \u001b[1m161s\u001b[0m 390ms/step - accuracy: 0.5487 - loss: 0.6878 - val_accuracy: 0.5885 - val_loss: 0.6760\n",
      "Epoch 2/20\n",
      "\u001b[1m400/400\u001b[0m \u001b[32m━━━━━━━━━━━━━━━━━━━━\u001b[0m\u001b[37m\u001b[0m \u001b[1m76s\u001b[0m 187ms/step - accuracy: 0.6143 - loss: 0.6601 - val_accuracy: 0.6975 - val_loss: 0.5886\n",
      "Epoch 3/20\n",
      "\u001b[1m400/400\u001b[0m \u001b[32m━━━━━━━━━━━━━━━━━━━━\u001b[0m\u001b[37m\u001b[0m \u001b[1m75s\u001b[0m 185ms/step - accuracy: 0.6786 - loss: 0.5996 - val_accuracy: 0.7150 - val_loss: 0.5559\n",
      "Epoch 4/20\n",
      "\u001b[1m400/400\u001b[0m \u001b[32m━━━━━━━━━━━━━━━━━━━━\u001b[0m\u001b[37m\u001b[0m \u001b[1m74s\u001b[0m 184ms/step - accuracy: 0.7214 - loss: 0.5509 - val_accuracy: 0.7195 - val_loss: 0.5610\n",
      "Epoch 5/20\n",
      "\u001b[1m400/400\u001b[0m \u001b[32m━━━━━━━━━━━━━━━━━━━━\u001b[0m\u001b[37m\u001b[0m \u001b[1m76s\u001b[0m 186ms/step - accuracy: 0.7405 - loss: 0.5201 - val_accuracy: 0.7440 - val_loss: 0.5306\n",
      "Epoch 6/20\n",
      "\u001b[1m400/400\u001b[0m \u001b[32m━━━━━━━━━━━━━━━━━━━━\u001b[0m\u001b[37m\u001b[0m \u001b[1m74s\u001b[0m 183ms/step - accuracy: 0.7538 - loss: 0.4992 - val_accuracy: 0.7435 - val_loss: 0.5274\n",
      "Epoch 7/20\n",
      "\u001b[1m400/400\u001b[0m \u001b[32m━━━━━━━━━━━━━━━━━━━━\u001b[0m\u001b[37m\u001b[0m \u001b[1m74s\u001b[0m 184ms/step - accuracy: 0.7668 - loss: 0.4789 - val_accuracy: 0.7705 - val_loss: 0.4889\n",
      "Epoch 8/20\n",
      "\u001b[1m400/400\u001b[0m \u001b[32m━━━━━━━━━━━━━━━━━━━━\u001b[0m\u001b[37m\u001b[0m \u001b[1m74s\u001b[0m 182ms/step - accuracy: 0.7836 - loss: 0.4546 - val_accuracy: 0.7480 - val_loss: 0.5259\n",
      "Epoch 9/20\n",
      "\u001b[1m400/400\u001b[0m \u001b[32m━━━━━━━━━━━━━━━━━━━━\u001b[0m\u001b[37m\u001b[0m \u001b[1m75s\u001b[0m 185ms/step - accuracy: 0.7961 - loss: 0.4374 - val_accuracy: 0.7745 - val_loss: 0.4930\n",
      "Epoch 10/20\n",
      "\u001b[1m400/400\u001b[0m \u001b[32m━━━━━━━━━━━━━━━━━━━━\u001b[0m\u001b[37m\u001b[0m \u001b[1m92s\u001b[0m 228ms/step - accuracy: 0.8094 - loss: 0.4194 - val_accuracy: 0.7640 - val_loss: 0.4967\n",
      "Epoch 11/20\n",
      "\u001b[1m400/400\u001b[0m \u001b[32m━━━━━━━━━━━━━━━━━━━━\u001b[0m\u001b[37m\u001b[0m \u001b[1m77s\u001b[0m 191ms/step - accuracy: 0.8176 - loss: 0.4027 - val_accuracy: 0.7825 - val_loss: 0.4841\n",
      "Epoch 12/20\n",
      "\u001b[1m400/400\u001b[0m \u001b[32m━━━━━━━━━━━━━━━━━━━━\u001b[0m\u001b[37m\u001b[0m \u001b[1m76s\u001b[0m 189ms/step - accuracy: 0.8330 - loss: 0.3793 - val_accuracy: 0.7825 - val_loss: 0.4843\n",
      "Epoch 13/20\n",
      "\u001b[1m400/400\u001b[0m \u001b[32m━━━━━━━━━━━━━━━━━━━━\u001b[0m\u001b[37m\u001b[0m \u001b[1m77s\u001b[0m 189ms/step - accuracy: 0.8243 - loss: 0.3764 - val_accuracy: 0.7885 - val_loss: 0.4785\n",
      "Epoch 14/20\n",
      "\u001b[1m400/400\u001b[0m \u001b[32m━━━━━━━━━━━━━━━━━━━━\u001b[0m\u001b[37m\u001b[0m \u001b[1m82s\u001b[0m 202ms/step - accuracy: 0.8502 - loss: 0.3349 - val_accuracy: 0.7930 - val_loss: 0.4799\n",
      "Epoch 15/20\n",
      "\u001b[1m400/400\u001b[0m \u001b[32m━━━━━━━━━━━━━━━━━━━━\u001b[0m\u001b[37m\u001b[0m \u001b[1m82s\u001b[0m 201ms/step - accuracy: 0.8544 - loss: 0.3262 - val_accuracy: 0.7865 - val_loss: 0.4851\n",
      "Epoch 16/20\n",
      "\u001b[1m400/400\u001b[0m \u001b[32m━━━━━━━━━━━━━━━━━━━━\u001b[0m\u001b[37m\u001b[0m \u001b[1m75s\u001b[0m 186ms/step - accuracy: 0.8576 - loss: 0.3142 - val_accuracy: 0.7840 - val_loss: 0.5153\n",
      "Epoch 17/20\n",
      "\u001b[1m400/400\u001b[0m \u001b[32m━━━━━━━━━━━━━━━━━━━━\u001b[0m\u001b[37m\u001b[0m \u001b[1m74s\u001b[0m 183ms/step - accuracy: 0.8684 - loss: 0.2989 - val_accuracy: 0.7770 - val_loss: 0.5190\n",
      "Epoch 18/20\n",
      "\u001b[1m400/400\u001b[0m \u001b[32m━━━━━━━━━━━━━━━━━━━━\u001b[0m\u001b[37m\u001b[0m \u001b[1m75s\u001b[0m 185ms/step - accuracy: 0.8845 - loss: 0.2755 - val_accuracy: 0.7925 - val_loss: 0.5517\n",
      "Epoch 19/20\n",
      "\u001b[1m400/400\u001b[0m \u001b[32m━━━━━━━━━━━━━━━━━━━━\u001b[0m\u001b[37m\u001b[0m \u001b[1m74s\u001b[0m 184ms/step - accuracy: 0.8886 - loss: 0.2778 - val_accuracy: 0.7935 - val_loss: 0.5452\n",
      "Epoch 20/20\n",
      "\u001b[1m400/400\u001b[0m \u001b[32m━━━━━━━━━━━━━━━━━━━━\u001b[0m\u001b[37m\u001b[0m \u001b[1m74s\u001b[0m 183ms/step - accuracy: 0.8987 - loss: 0.2417 - val_accuracy: 0.7890 - val_loss: 0.5310\n"
     ]
    },
    {
     "data": {
      "text/plain": [
       "<keras.src.callbacks.history.History at 0x1a2e4b25e90>"
      ]
     },
     "execution_count": 14,
     "metadata": {},
     "output_type": "execute_result"
    }
   ],
   "source": [
    "cnn.fit(x=training_set, validation_data=test_set, epochs=20\n",
    "       )"
   ]
  },
  {
   "cell_type": "markdown",
   "id": "1282b46c-47ec-4fcc-9d48-3ea589aa59a8",
   "metadata": {},
   "source": [
    "predictions"
   ]
  },
  {
   "cell_type": "code",
   "execution_count": 15,
   "id": "ace90736-baee-461d-8481-69eca5a81c29",
   "metadata": {},
   "outputs": [
    {
     "name": "stdout",
     "output_type": "stream",
     "text": [
      "\u001b[1m1/1\u001b[0m \u001b[32m━━━━━━━━━━━━━━━━━━━━\u001b[0m\u001b[37m\u001b[0m \u001b[1m0s\u001b[0m 174ms/step\n"
     ]
    },
    {
     "data": {
      "text/plain": [
       "{'cats': 0, 'dogs': 1}"
      ]
     },
     "execution_count": 15,
     "metadata": {},
     "output_type": "execute_result"
    }
   ],
   "source": [
    "import numpy as np\n",
    "from keras.preprocessing import image\n",
    "test_image= image.load_img('abc.png', target_size=[64,64])\n",
    "test_image= image.img_to_array(test_image)\n",
    "test_image= np.expand_dims(test_image,axis=0)\n",
    "result=cnn.predict(test_image)\n",
    "training_set.class_indices"
   ]
  },
  {
   "cell_type": "code",
   "execution_count": 16,
   "id": "f461f3d4-6fba-4a21-baea-d0983c819cc6",
   "metadata": {},
   "outputs": [],
   "source": [
    "if result[0][0]==1:\n",
    "    pridiction='dog'\n",
    "else:\n",
    "    pridiction='cat'"
   ]
  },
  {
   "cell_type": "code",
   "execution_count": 17,
   "id": "fb50cde2-bf56-4310-a2fe-337f7389ffad",
   "metadata": {},
   "outputs": [
    {
     "name": "stdout",
     "output_type": "stream",
     "text": [
      "dog\n"
     ]
    }
   ],
   "source": [
    "print(pridiction)"
   ]
  }
 ],
 "metadata": {
  "kernelspec": {
   "display_name": "Python 3 (ipykernel)",
   "language": "python",
   "name": "python3"
  },
  "language_info": {
   "codemirror_mode": {
    "name": "ipython",
    "version": 3
   },
   "file_extension": ".py",
   "mimetype": "text/x-python",
   "name": "python",
   "nbconvert_exporter": "python",
   "pygments_lexer": "ipython3",
   "version": "3.11.5"
  }
 },
 "nbformat": 4,
 "nbformat_minor": 5
}
